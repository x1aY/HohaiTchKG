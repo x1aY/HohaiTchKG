{
 "cells": [
  {
   "cell_type": "code",
   "execution_count": 24,
   "metadata": {},
   "outputs": [],
   "source": [
    "import requests\n",
    "import csv\n",
    "from bs4 import BeautifulSoup\n",
    "import re\n",
    "teacherListPath = './data/teacherList.csv'\n",
    "baseTeacherUrl = 'http://jszy.hhu.edu.cn'"
   ]
  },
  {
   "cell_type": "markdown",
   "metadata": {},
   "source": [
    "### 获取教师列表"
   ]
  },
  {
   "cell_type": "code",
   "execution_count": 28,
   "metadata": {},
   "outputs": [],
   "source": [
    "def TchList():\n",
    "    \"\"\"index range : 1 - 110\"\"\"\n",
    "\n",
    "    myUrl = 'https://jszy.hhu.edu.cn/_wp3services/generalQuery?queryObj=teacherHome'\n",
    "\n",
    "    tchHeaders = {\n",
    "        'Accept': 'application/json, text/javascript, */*; q=0.01',\n",
    "        'Accept-Encoding': 'gzip, deflate, br',\n",
    "        'Accept-Language': 'zh-CN,zh;q=0.9,en;q=0.8,en-GB;q=0.7,en-US;q=0.6',\n",
    "        'Connection': 'keep-alive',\n",
    "\n",
    "        'Content-Length': '964',\n",
    "        'Content-Type': 'application/x-www-form-urlencoded; charset=UTF-8',\n",
    "        'Cookie': 's1_1=Mac=253cd8dc-2991-4596-a98e-f04ee8a6a9bc&OpenID=&LastAloneTime=2022/4/22 20:29:40&LastVisitTime=2022/4/22 20:30:27; iPlanetDirectoryPro=AQIC5wM2LY4Sfcy1qxXnERvdhoxyR9NTibA5+VkfgVXlSY8=@AAJTSQACMDI=#; JSESSIONID=9EE6AA686BA419F839C6F471CD8CCE03',\n",
    "        'Host': 'jszy.hhu.edu.cn',\n",
    "        'Origin': 'https://jszy.hhu.edu.cn',\n",
    "        'Referer': 'https://jszy.hhu.edu.cn/jsflcx/list.htm',\n",
    "        'sec-ch-ua': '\" Not A;Brand\";v=\"99\", \"Chromium\";v=\"101\", \"Microsoft Edge\";v=\"101\"',\n",
    "        'sec-ch-ua-mobile': '?0',\n",
    "        'sec-ch-ua-platform': '\"Windows\"',\n",
    "\n",
    "        'Sec-Fetch-Dest': 'empty',\n",
    "        'Sec-Fetch-Mode': 'cors',\n",
    "        'Sec-Fetch-Site': 'same-origin',\n",
    "\n",
    "        'User-Agent': 'Mozilla/5.0 (Windows NT 10.0; Win64; x64) AppleWebKit/537.36 (KHTML, like Gecko) Chrome/101.0.4951.64 Safari/537.36 Edg/101.0.1210.53',\n",
    "        'X-Requested-With': 'XMLHttpRequest'\n",
    "    }\n",
    "\n",
    "    tchData = {\n",
    "        'pageIndex': 1,\n",
    "        'rows': 1000,\n",
    "        'conditions': '[{\"field\": \"language\", \"value\": \"1\", \"judge\": \"=\"}, {\"field\": \"published\", \"value\": \"1\", \"judge\": \"=\"}]',\n",
    "        'returnInfos': '[{\"field\": \"cnUrl\", \"name\": \"cnUrl\"},\\\n",
    "                        {\"field\": \"title\", \"name\": \"title\"},\\\n",
    "                        {\"field\": \"department\", \"name\": \"department\"},\\\n",
    "                        {\"field\": \"career\", \"name\": \"career\"},\\\n",
    "                        {\"field\": \"exField1\", \"name\": \"exField1\"}\\\n",
    "                        ]',\n",
    "        'articleType': 1,\n",
    "        'level': 0,\n",
    "        'pageEvent': 'doSearchByPage'\n",
    "    }\n",
    "\n",
    "    resp = requests.post(url=myUrl, data=tchData, headers=tchHeaders)\n",
    "\n",
    "    return [{'教师名': datai['title'],'职称':datai['career'], '招生资格':datai['exField1'],\n",
    "             '部门':datai['department'], '主页链接':datai['cnUrl']}\n",
    "            for datai in resp.json()['data']]"
   ]
  },
  {
   "cell_type": "code",
   "execution_count": 29,
   "metadata": {},
   "outputs": [],
   "source": [
    "teacherList = TchList()\n",
    "# teacherDataList[2]"
   ]
  },
  {
   "cell_type": "markdown",
   "metadata": {},
   "source": [
    "### 存取数据为csv格式"
   ]
  },
  {
   "cell_type": "code",
   "execution_count": 30,
   "metadata": {},
   "outputs": [],
   "source": [
    "with open(teacherListPath,'w') as file:\n",
    "    teacherListHeader = ['教师名','职称','招生资格','部门','主页链接']\n",
    "    csvWriter = csv.DictWriter(file,teacherListHeader,delimiter='\\t',lineterminator='\\n')\n",
    "    csvWriter.writeheader()\n",
    "    csvWriter.writerows(teacherDataList)"
   ]
  },
  {
   "cell_type": "code",
   "execution_count": 4,
   "metadata": {},
   "outputs": [
    {
     "data": {
      "text/plain": [
       "['安天庆', '教授', '博士生导师', '理学院', 'http://jszy.hhu.edu.cn/atq']"
      ]
     },
     "execution_count": 4,
     "metadata": {},
     "output_type": "execute_result"
    }
   ],
   "source": [
    "with open(teacherListPath,'r') as file:\n",
    "    csvReader = csv.reader(file,delimiter='\\t')\n",
    "    teacherList = [row for row in csvReader]\n",
    "teacherList[2]"
   ]
  },
  {
   "cell_type": "markdown",
   "metadata": {},
   "source": [
    "### 爬取每个教师的数据 测试"
   ]
  },
  {
   "cell_type": "code",
   "execution_count": 4,
   "metadata": {},
   "outputs": [],
   "source": [
    "with open(teacherListPath,'r') as file:\n",
    "    csvReader = csv.reader(file,delimiter=',')\n",
    "    teacherList = [row for row in csvReader]\n",
    "teacherList[2]\n",
    "teacherLink = teacherList[128][-1]\n",
    "teacherLink = 'http://jszy.hhu.edu.cn/bx102'"
   ]
  },
  {
   "cell_type": "code",
   "execution_count": 5,
   "metadata": {},
   "outputs": [],
   "source": [
    "headersi = {'User-Agent': 'Mozilla/5.0 (Windows NT 10.0; Win64; x64) AppleWebKit/537.36 (KHTML, like Gecko) Chrome/101.0.4951.64 Safari/537.36 Edg/101.0.1210.53',}\n",
    "\n",
    "def GetSoup(url):\n",
    "    response = requests.get(url,headers=headersi)\n",
    "    response.encoding='utf-8'\n",
    "    return BeautifulSoup(response.text, 'html.parser')\n",
    "pageiSoup = GetSoup(teacherLink)"
   ]
  },
  {
   "cell_type": "code",
   "execution_count": 13,
   "metadata": {},
   "outputs": [],
   "source": [
    "def GetAbsText(text):\n",
    "    return re.sub('\\r|\\t|\\n|\\xa0| ','',text)\n",
    "\n",
    "def GetAbsTextWithSpace(text):\n",
    "    return re.sub('\\r|\\t|\\n|\\xa0','',text)"
   ]
  },
  {
   "cell_type": "code",
   "execution_count": null,
   "metadata": {},
   "outputs": [],
   "source": [
    "infoDict = {}\n",
    "infoDict['头像']=baseTeacherUrl+pageiSoup.find(name='img',attrs={\"alt\":'头像'}).get('src')\n",
    "for infoi in pageiSoup.find_all(name='p',attrs={\"class\":'news_text'}): \n",
    "  keyi = GetAbsText(infoi.find(name='span',attrs={'class':'title'}).text).replace('：','')\n",
    "  valuei = ' '.join([valuei.text.strip() for valuei in infoi.find_all(name='span',attrs={'class':'txt'})])\n",
    "  infoDict[keyi] = valuei\n",
    "infoDict"
   ]
  },
  {
   "cell_type": "code",
   "execution_count": null,
   "metadata": {},
   "outputs": [],
   "source": [
    "iframeLink = baseTeacherUrl + pageiSoup.find(name='iframe').get('src')\n",
    "relatedTchsSoup = GetSoup(iframeLink).find_all(name='div',attrs={'class':'news_title'})\n",
    "infoDict['相关教师'] = [GetAbsText(tchSoup.text) for tchSoup in relatedTchsSoup]\n",
    "infoDict['相关教师']"
   ]
  },
  {
   "cell_type": "code",
   "execution_count": 16,
   "metadata": {},
   "outputs": [],
   "source": [
    "allTitleSoup = pageiSoup.find_all(name='div',attrs={'class':'tt'})"
   ]
  },
  {
   "cell_type": "code",
   "execution_count": null,
   "metadata": {},
   "outputs": [],
   "source": [
    "# 个人简介\n",
    "personalBaseSoup = allTitleSoup[0].findNextSibling()\n",
    "infoDict['个人简介'] = GetAbsTextWithSpace(personalBaseSoup.text)\n",
    "infoDict['个人简介']"
   ]
  },
  {
   "cell_type": "code",
   "execution_count": null,
   "metadata": {},
   "outputs": [],
   "source": [
    "# 个人资料\n",
    "personalDataSoup = allTitleSoup[1].findNextSibling()\n",
    "for infoi in personalDataSoup.find_all(name='li'):\n",
    "    keyi = GetAbsText(infoi.find(name='span',attrs={'class':'title'}).text).replace('：','')\n",
    "    valuei = infoi.find(name='span',attrs={'class':'txt'}).text\n",
    "    infoDict[keyi] = valuei\n",
    "infoDict"
   ]
  },
  {
   "cell_type": "code",
   "execution_count": null,
   "metadata": {},
   "outputs": [],
   "source": [
    "# 教育经历,工作经历,研究领域,科研项目,论文,科技成果,开授课程,教学成果,教学资源,社会职务,荣誉及奖励\n",
    "for titleSoup in allTitleSoup[2:-1]:\n",
    "    titleText = GetAbsText(titleSoup.text)\n",
    "    contentSoup = titleSoup.findNextSibling()\n",
    "    allContentSoup = contentSoup.find_all(name='li', attrs={'class': 'news'})\n",
    "    if len(allContentSoup) != 0:\n",
    "        infoDict[titleText] = [GetAbsTextWithSpace(coutenti.text)\n",
    "                               for coutenti in allContentSoup]\n",
    "    else:\n",
    "        allContentSoup = contentSoup.find_all(name='p', attrs={'class': 'MsoNormal'})\n",
    "        if len(allContentSoup) != 0:\n",
    "            infoDict[titleText] = [GetAbsTextWithSpace(\n",
    "                coutenti.text) for coutenti in allContentSoup]\n",
    "        else:\n",
    "            infoDict[titleText] = GetAbsTextWithSpace(contentSoup.text)\n",
    "infoDict\n"
   ]
  },
  {
   "cell_type": "markdown",
   "metadata": {},
   "source": [
    "### 爬取每个老师的数据"
   ]
  },
  {
   "cell_type": "code",
   "execution_count": 25,
   "metadata": {},
   "outputs": [],
   "source": [
    "def GetSoup(url):\n",
    "    headersi = {'User-Agent': 'Mozilla/5.0 (Windows NT 10.0; Win64; x64) AppleWebKit/537.36 (KHTML, like Gecko) Chrome/101.0.4951.64 Safari/537.36 Edg/101.0.1210.53',}\n",
    "    response = requests.get(url,headers=headersi)\n",
    "    response.encoding='utf-8'\n",
    "    return BeautifulSoup(response.text, 'html.parser')\n",
    "\n",
    "def GetAbsText(text):\n",
    "    return re.sub('\\r|\\t|\\n|\\xa0| ','',text)\n",
    "\n",
    "def GetAbsTextWithSpace(text):\n",
    "    return re.sub('\\r|\\t|\\n|\\xa0','',text)"
   ]
  },
  {
   "cell_type": "code",
   "execution_count": 26,
   "metadata": {},
   "outputs": [],
   "source": [
    "def GetTeacherInfo(teacherName,teacherLink):\n",
    "    infoDict = {'主页链接':teacherLink}\n",
    "    teacherSoup = GetSoup(teacherLink)\n",
    "    \n",
    "    notVisited = ['404 Not Found', '403 Forbidden']\n",
    "    if teacherSoup.title.text in notVisited:\n",
    "        infoDict['姓名'] = teacherName\n",
    "        return infoDict\n",
    "\n",
    "    # 左边栏介绍 头像链接 职称 部门 学科 教学部门 电话 邮件 办公地址 通讯地址 邮编\n",
    "    infoDict['头像链接']=baseTeacherUrl+teacherSoup.find(name='img',attrs={\"alt\":'头像'}).get('src')\n",
    "    \n",
    "    for infoi in teacherSoup.find_all(name='p',attrs={\"class\":'news_text'}): \n",
    "        keyi = GetAbsText(infoi.find(name='span',attrs={'class':'title'}).text).replace('：','')\n",
    "        valuei = ' '.join([valuei.text.strip() for valuei in infoi.find_all(name='span',attrs={'class':'txt'})])\n",
    "        infoDict[keyi] = valuei\n",
    "    \n",
    "    # 相关教师\n",
    "    iframeLink = baseTeacherUrl + teacherSoup.find(name='iframe').get('src')\n",
    "    relatedTchsSoup = GetSoup(iframeLink).find_all(name='div',attrs={'class':'news_title'})\n",
    "    infoDict['相关教师'] = ';'.join([GetAbsText(tchSoup.text) for tchSoup in relatedTchsSoup])\n",
    "\n",
    "    allTitleSoup = teacherSoup.find_all(name='div',attrs={'class':'tt'})\n",
    "\n",
    "    # 个人简介\n",
    "    personalBaseSoup = allTitleSoup[0].findNextSibling()\n",
    "    infoDict['个人简介'] = GetAbsTextWithSpace(personalBaseSoup.text)\n",
    "    \n",
    "    # 个人资料: 姓名 出生年月 性别 学历 学位 毕业院校\n",
    "    personalDataSoup = allTitleSoup[1].findNextSibling()\n",
    "    for infoi in personalDataSoup.find_all(name='li'):\n",
    "        keyi = GetAbsText(infoi.find(name='span',attrs={'class':'title'}).text).replace('：','')\n",
    "        valuei = infoi.find(name='span',attrs={'class':'txt'}).text\n",
    "        infoDict[keyi] = valuei\n",
    "    \n",
    "    # 教育经历,工作经历,研究领域,科研项目,论文,科技成果,开授课程,教学成果,教学资源,社会职务,荣誉及奖励,招生信息\n",
    "    for titleSoup in allTitleSoup[2:]:\n",
    "        titleText = GetAbsText(titleSoup.text)\n",
    "        contentSoup = titleSoup.findNextSibling()\n",
    "        allContentSoup = contentSoup.find_all(name='li', attrs={'class': 'news'})\n",
    "        if len(allContentSoup) != 0:\n",
    "            infoDict[titleText] = '\\n'.join([GetAbsTextWithSpace(coutenti.text)\n",
    "                                for coutenti in allContentSoup])\n",
    "        else:\n",
    "            allContentSoup = contentSoup.find_all(name='p')\n",
    "            if len(allContentSoup) != 0:\n",
    "                infoDict[titleText] = '\\n'.join([GetAbsTextWithSpace(\n",
    "                    coutenti.text) for coutenti in allContentSoup])\n",
    "            else:\n",
    "                infoDict[titleText] = GetAbsTextWithSpace(contentSoup.text)\n",
    "    \n",
    "    return infoDict\n",
    "\n",
    "teacherName,teacherLink = '陈达','https://jszy.hhu.edu.cn/cd/'\n",
    "\n",
    "teacherName,teacherLink = '冯钧','https://jszy.hhu.edu.cn/fj12/'\n",
    "\n",
    "# GetTeacherInfo(teacherName,teacherLink)"
   ]
  },
  {
   "cell_type": "code",
   "execution_count": 27,
   "metadata": {},
   "outputs": [],
   "source": [
    "with open(teacherListPath, 'r') as file:\n",
    "    csvReader = csv.reader(file, delimiter='\\t')\n",
    "    teacherLinkList = [(row[0], row[-1]) for row in csvReader]"
   ]
  },
  {
   "cell_type": "code",
   "execution_count": 37,
   "metadata": {},
   "outputs": [],
   "source": [
    "teacherInfoList = []"
   ]
  },
  {
   "cell_type": "code",
   "execution_count": null,
   "metadata": {},
   "outputs": [],
   "source": [
    "for tchName, tchLink in teacherLinkList[329:]:\n",
    "    print(tchName, tchLink)\n",
    "    # break\n",
    "    teacherInfoList.append(GetTeacherInfo(tchName, tchLink))"
   ]
  },
  {
   "cell_type": "code",
   "execution_count": 40,
   "metadata": {},
   "outputs": [
    {
     "data": {
      "text/plain": [
       "647"
      ]
     },
     "execution_count": 40,
     "metadata": {},
     "output_type": "execute_result"
    }
   ],
   "source": [
    "len(teacherInfoList)"
   ]
  },
  {
   "cell_type": "code",
   "execution_count": 41,
   "metadata": {},
   "outputs": [],
   "source": [
    "\n",
    "with open('./data/teacherInfoWithSpace.csv', 'a', encoding='utf-8') as file:\n",
    "    teacherInfoListHeader = ['姓名', '出生年月', '性别', '学历', '学位', '毕业院校', '主页链接',\n",
    "                             '头像链接', '职称', '部门', '学科', '教学部门', '电话', '邮件', '办公地址', '通讯地址', '邮编', '相关教师',\n",
    "                             '个人简介', '教育经历', '工作经历', '研究领域', '科研项目', '论文', '科技成果',\n",
    "                             '开授课程', '教学成果', '教学资源', '社会职务', '荣誉及奖励', '招生信息']\n",
    "    csvWriter = csv.DictWriter(file, teacherInfoListHeader, delimiter='\\t', lineterminator='\\n')\n",
    "    # csvWriter.writeheader()\n",
    "    csvWriter.writerows(teacherInfoList)\n"
   ]
  },
  {
   "cell_type": "markdown",
   "metadata": {},
   "source": [
    "### 添加教师编号"
   ]
  },
  {
   "cell_type": "code",
   "execution_count": 42,
   "metadata": {},
   "outputs": [
    {
     "data": {
      "text/plain": [
       "Index(['姓名', '出生年月', '性别', '学历', '学位', '毕业院校', '主页链接', '头像链接', '职称', '部门',\n",
       "       '学科', '教学部门', '电话', '邮件', '办公地址', '通讯地址', '邮编', '相关教师', '个人简介', '教育经历',\n",
       "       '工作经历', '研究领域', '科研项目', '论文', '科技成果', '开授课程', '教学成果', '教学资源', '社会职务',\n",
       "       '荣誉及奖励', '招生信息'],\n",
       "      dtype='object')"
      ]
     },
     "execution_count": 42,
     "metadata": {},
     "output_type": "execute_result"
    }
   ],
   "source": [
    "import pandas as pd\n",
    "teacherInfoPath = './data/teacherInfoWithSpace.csv'\n",
    "tchInfos = pd.read_csv(teacherInfoPath,header=0,delimiter='\\t')\n",
    "tchInfos.columns"
   ]
  },
  {
   "cell_type": "code",
   "execution_count": 43,
   "metadata": {},
   "outputs": [],
   "source": [
    "indexs =tchInfos.index.to_series()\n",
    "indexs.name = '教师编号'\n",
    "tchInfosWithID =  pd.concat([indexs,tchInfos],axis=1)\n",
    "tchInfos.to_csv('./data/teacherInfoWithSpaceWithID.csv',sep='\\t',index_label='教师编号')\n",
    "# tchInfos.to_csv('./data/teacherInfoWithID1.csv',sep='\\t',index=0)"
   ]
  },
  {
   "cell_type": "markdown",
   "metadata": {},
   "source": [
    "### 读取老师信息"
   ]
  },
  {
   "cell_type": "code",
   "execution_count": 44,
   "metadata": {},
   "outputs": [
    {
     "data": {
      "text/html": [
       "<div>\n",
       "<style scoped>\n",
       "    .dataframe tbody tr th:only-of-type {\n",
       "        vertical-align: middle;\n",
       "    }\n",
       "\n",
       "    .dataframe tbody tr th {\n",
       "        vertical-align: top;\n",
       "    }\n",
       "\n",
       "    .dataframe thead th {\n",
       "        text-align: right;\n",
       "    }\n",
       "</style>\n",
       "<table border=\"1\" class=\"dataframe\">\n",
       "  <thead>\n",
       "    <tr style=\"text-align: right;\">\n",
       "      <th></th>\n",
       "      <th>姓名</th>\n",
       "      <th>出生年月</th>\n",
       "      <th>性别</th>\n",
       "      <th>学历</th>\n",
       "      <th>学位</th>\n",
       "      <th>...</th>\n",
       "      <th>教学成果</th>\n",
       "      <th>教学资源</th>\n",
       "      <th>社会职务</th>\n",
       "      <th>荣誉及奖励</th>\n",
       "      <th>招生信息</th>\n",
       "    </tr>\n",
       "    <tr>\n",
       "      <th>教师编号</th>\n",
       "      <th></th>\n",
       "      <th></th>\n",
       "      <th></th>\n",
       "      <th></th>\n",
       "      <th></th>\n",
       "      <th></th>\n",
       "      <th></th>\n",
       "      <th></th>\n",
       "      <th></th>\n",
       "      <th></th>\n",
       "      <th></th>\n",
       "    </tr>\n",
       "  </thead>\n",
       "  <tbody>\n",
       "    <tr>\n",
       "      <th>0</th>\n",
       "      <td>安天庆</td>\n",
       "      <td>1963-0...</td>\n",
       "      <td>男</td>\n",
       "      <td>博士研究生</td>\n",
       "      <td>博士学位</td>\n",
       "      <td>...</td>\n",
       "      <td>NaN</td>\n",
       "      <td>NaN</td>\n",
       "      <td>江苏省数学会...</td>\n",
       "      <td>NaN</td>\n",
       "      <td>每年招收博士...</td>\n",
       "    </tr>\n",
       "    <tr>\n",
       "      <th>1</th>\n",
       "      <td>安杰晶</td>\n",
       "      <td>1988-1...</td>\n",
       "      <td>女</td>\n",
       "      <td>硕士研究生</td>\n",
       "      <td>硕士学位</td>\n",
       "      <td>...</td>\n",
       "      <td>NaN</td>\n",
       "      <td>NaN</td>\n",
       "      <td>NaN</td>\n",
       "      <td>NaN</td>\n",
       "      <td>NaN</td>\n",
       "    </tr>\n",
       "    <tr>\n",
       "      <th>2</th>\n",
       "      <td>卞培良</td>\n",
       "      <td>1993-0...</td>\n",
       "      <td>男</td>\n",
       "      <td>博士研究生</td>\n",
       "      <td>工学博士学位</td>\n",
       "      <td>...</td>\n",
       "      <td>NaN</td>\n",
       "      <td>NaN</td>\n",
       "      <td>NaN</td>\n",
       "      <td>NaN</td>\n",
       "      <td>NaN</td>\n",
       "    </tr>\n",
       "    <tr>\n",
       "      <th>3</th>\n",
       "      <td>边钰</td>\n",
       "      <td>1995-1...</td>\n",
       "      <td>女</td>\n",
       "      <td>硕士研究生</td>\n",
       "      <td>硕士学位</td>\n",
       "      <td>...</td>\n",
       "      <td>NaN</td>\n",
       "      <td>NaN</td>\n",
       "      <td>NaN</td>\n",
       "      <td>NaN</td>\n",
       "      <td>NaN</td>\n",
       "    </tr>\n",
       "    <tr>\n",
       "      <th>4</th>\n",
       "      <td>毕利东</td>\n",
       "      <td>1980-1...</td>\n",
       "      <td>男</td>\n",
       "      <td>博士研究生</td>\n",
       "      <td>博士学位</td>\n",
       "      <td>...</td>\n",
       "      <td>NaN</td>\n",
       "      <td>NaN</td>\n",
       "      <td>NaN</td>\n",
       "      <td>NaN</td>\n",
       "      <td>NaN</td>\n",
       "    </tr>\n",
       "  </tbody>\n",
       "</table>\n",
       "<p>5 rows × 31 columns</p>\n",
       "</div>"
      ],
      "text/plain": [
       "       姓名       出生年月 性别     学历      学位  ... 教学成果 教学资源       社会职务 荣誉及奖励  \\\n",
       "教师编号                                    ...                              \n",
       "0     安天庆  1963-0...  男  博士研究生    博士学位  ...  NaN  NaN  江苏省数学会...   NaN   \n",
       "1     安杰晶  1988-1...  女  硕士研究生    硕士学位  ...  NaN  NaN        NaN   NaN   \n",
       "2     卞培良  1993-0...  男  博士研究生  工学博士学位  ...  NaN  NaN        NaN   NaN   \n",
       "3      边钰  1995-1...  女  硕士研究生    硕士学位  ...  NaN  NaN        NaN   NaN   \n",
       "4     毕利东  1980-1...  男  博士研究生    博士学位  ...  NaN  NaN        NaN   NaN   \n",
       "\n",
       "           招生信息  \n",
       "教师编号             \n",
       "0     每年招收博士...  \n",
       "1           NaN  \n",
       "2           NaN  \n",
       "3           NaN  \n",
       "4           NaN  \n",
       "\n",
       "[5 rows x 31 columns]"
      ]
     },
     "execution_count": 44,
     "metadata": {},
     "output_type": "execute_result"
    }
   ],
   "source": [
    "import pandas as pd\n",
    "pd.set_option('display.max_columns',10)\n",
    "pd.set_option('display.max_colwidth',10)\n",
    "teacherInfoPath = './data/teacherInfoWithSpaceWithID.csv'\n",
    "tchInfos = pd.read_csv(teacherInfoPath,header=0,delimiter='\\t',index_col='教师编号')\n",
    "tchInfos.head()"
   ]
  }
 ],
 "metadata": {
  "interpreter": {
   "hash": "7b1579a8c60a6f04929faebd00c1c83f00367fa55755b2dc8b7c0a944e6546a5"
  },
  "kernelspec": {
   "display_name": "Python 3.7.11 ('scripts')",
   "language": "python",
   "name": "python3"
  },
  "language_info": {
   "codemirror_mode": {
    "name": "ipython",
    "version": 3
   },
   "file_extension": ".py",
   "mimetype": "text/x-python",
   "name": "python",
   "nbconvert_exporter": "python",
   "pygments_lexer": "ipython3",
   "version": "3.7.11"
  },
  "orig_nbformat": 4
 },
 "nbformat": 4,
 "nbformat_minor": 2
}
