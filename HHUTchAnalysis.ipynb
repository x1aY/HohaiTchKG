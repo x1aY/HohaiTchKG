{
 "cells": [
  {
   "cell_type": "code",
   "execution_count": 15,
   "metadata": {},
   "outputs": [],
   "source": [
    "import pandas as pd\n",
    "import numpy as np\n",
    "import re\n",
    "pd.set_option('display.max_columns',10)\n",
    "pd.set_option('display.max_colwidth',10)\n",
    "MYNA = np.nan\n",
    "tchInfos = pd.read_csv('./data/tch2neo.csv',header=0,delimiter='\\t',index_col='教师编号')\n",
    "NODATA = '无'\n",
    "tchInfos.fillna(NODATA, inplace=True)\n",
    "COMMONINDEX = tchInfos.index"
   ]
  },
  {
   "cell_type": "code",
   "execution_count": 16,
   "metadata": {},
   "outputs": [
    {
     "data": {
      "text/html": [
       "<div>\n",
       "<style scoped>\n",
       "    .dataframe tbody tr th:only-of-type {\n",
       "        vertical-align: middle;\n",
       "    }\n",
       "\n",
       "    .dataframe tbody tr th {\n",
       "        vertical-align: top;\n",
       "    }\n",
       "\n",
       "    .dataframe thead th {\n",
       "        text-align: right;\n",
       "    }\n",
       "</style>\n",
       "<table border=\"1\" class=\"dataframe\">\n",
       "  <thead>\n",
       "    <tr style=\"text-align: right;\">\n",
       "      <th></th>\n",
       "      <th>姓名</th>\n",
       "      <th>出生年月</th>\n",
       "      <th>性别</th>\n",
       "      <th>学历</th>\n",
       "      <th>学位</th>\n",
       "      <th>...</th>\n",
       "      <th>社会职务</th>\n",
       "      <th>荣誉及奖励</th>\n",
       "      <th>招生信息</th>\n",
       "      <th>导师资格</th>\n",
       "      <th>籍贯</th>\n",
       "    </tr>\n",
       "    <tr>\n",
       "      <th>教师编号</th>\n",
       "      <th></th>\n",
       "      <th></th>\n",
       "      <th></th>\n",
       "      <th></th>\n",
       "      <th></th>\n",
       "      <th></th>\n",
       "      <th></th>\n",
       "      <th></th>\n",
       "      <th></th>\n",
       "      <th></th>\n",
       "      <th></th>\n",
       "    </tr>\n",
       "  </thead>\n",
       "  <tbody>\n",
       "    <tr>\n",
       "      <th>0</th>\n",
       "      <td>安天庆</td>\n",
       "      <td>1963-0...</td>\n",
       "      <td>男</td>\n",
       "      <td>博士研究生</td>\n",
       "      <td>博士学位</td>\n",
       "      <td>...</td>\n",
       "      <td>江苏省数学会...</td>\n",
       "      <td>无</td>\n",
       "      <td>每年招收博士...</td>\n",
       "      <td>博士生导师</td>\n",
       "      <td>甘肃古浪</td>\n",
       "    </tr>\n",
       "    <tr>\n",
       "      <th>1</th>\n",
       "      <td>安杰晶</td>\n",
       "      <td>1988-1...</td>\n",
       "      <td>女</td>\n",
       "      <td>硕士研究生</td>\n",
       "      <td>硕士学位</td>\n",
       "      <td>...</td>\n",
       "      <td>无</td>\n",
       "      <td>无</td>\n",
       "      <td>无</td>\n",
       "      <td>无</td>\n",
       "      <td>无</td>\n",
       "    </tr>\n",
       "    <tr>\n",
       "      <th>2</th>\n",
       "      <td>卞培良</td>\n",
       "      <td>1993-0...</td>\n",
       "      <td>男</td>\n",
       "      <td>博士研究生</td>\n",
       "      <td>工学博士学位</td>\n",
       "      <td>...</td>\n",
       "      <td>无</td>\n",
       "      <td>无</td>\n",
       "      <td>无</td>\n",
       "      <td>无</td>\n",
       "      <td>无</td>\n",
       "    </tr>\n",
       "    <tr>\n",
       "      <th>3</th>\n",
       "      <td>边钰</td>\n",
       "      <td>1995-1...</td>\n",
       "      <td>女</td>\n",
       "      <td>硕士研究生</td>\n",
       "      <td>硕士学位</td>\n",
       "      <td>...</td>\n",
       "      <td>无</td>\n",
       "      <td>无</td>\n",
       "      <td>无</td>\n",
       "      <td>无</td>\n",
       "      <td>无</td>\n",
       "    </tr>\n",
       "    <tr>\n",
       "      <th>4</th>\n",
       "      <td>毕利东</td>\n",
       "      <td>1980-1...</td>\n",
       "      <td>男</td>\n",
       "      <td>博士研究生</td>\n",
       "      <td>博士学位</td>\n",
       "      <td>...</td>\n",
       "      <td>无</td>\n",
       "      <td>无</td>\n",
       "      <td>无</td>\n",
       "      <td>硕士生导师</td>\n",
       "      <td>无</td>\n",
       "    </tr>\n",
       "  </tbody>\n",
       "</table>\n",
       "<p>5 rows × 33 columns</p>\n",
       "</div>"
      ],
      "text/plain": [
       "       姓名       出生年月 性别     学历      学位  ...       社会职务 荣誉及奖励       招生信息  \\\n",
       "教师编号                                    ...                               \n",
       "0     安天庆  1963-0...  男  博士研究生    博士学位  ...  江苏省数学会...     无  每年招收博士...   \n",
       "1     安杰晶  1988-1...  女  硕士研究生    硕士学位  ...          无     无          无   \n",
       "2     卞培良  1993-0...  男  博士研究生  工学博士学位  ...          无     无          无   \n",
       "3      边钰  1995-1...  女  硕士研究生    硕士学位  ...          无     无          无   \n",
       "4     毕利东  1980-1...  男  博士研究生    博士学位  ...          无     无          无   \n",
       "\n",
       "       导师资格    籍贯  \n",
       "教师编号               \n",
       "0     博士生导师  甘肃古浪  \n",
       "1         无     无  \n",
       "2         无     无  \n",
       "3         无     无  \n",
       "4     硕士生导师     无  \n",
       "\n",
       "[5 rows x 33 columns]"
      ]
     },
     "execution_count": 16,
     "metadata": {},
     "output_type": "execute_result"
    }
   ],
   "source": [
    "tchInfos.head()"
   ]
  },
  {
   "cell_type": "markdown",
   "metadata": {},
   "source": [
    "### 个人简介中分离出籍贯"
   ]
  },
  {
   "cell_type": "code",
   "execution_count": 4,
   "metadata": {},
   "outputs": [],
   "source": [
    "baseInfo = tchInfos['个人简介']"
   ]
  },
  {
   "cell_type": "code",
   "execution_count": 5,
   "metadata": {},
   "outputs": [],
   "source": [
    "def GetNativePlace(baseInfo):\n",
    "    if pd.isna(baseInfo):\n",
    "        return MYNA\n",
    "    pattern = '，(黑龙江|辽宁|吉林|河北|河南|湖北|湖南|山东|山西|陕西|安徽|浙江|江苏|福建|广东|海南|四川|云南|贵州|青海|甘肃|江西|台湾)(.{0,8})人，'\n",
    "    NativePlaceList = re.findall(pattern,baseInfo)\n",
    "    return MYNA if len(NativePlaceList)==0 else ''.join(NativePlaceList[0])\n",
    "\n",
    "NativePlaces = pd.Series([GetNativePlace(baseInfoi) for baseInfoi in baseInfo],index=COMMONINDEX,name='籍贯')\n"
   ]
  },
  {
   "cell_type": "markdown",
   "metadata": {},
   "source": [
    "### csv测试"
   ]
  },
  {
   "cell_type": "code",
   "execution_count": 6,
   "metadata": {},
   "outputs": [],
   "source": [
    "import csv\n",
    "# baseTriple = []\n",
    "# for index in range(len(neoTestCsv)):\n",
    "#     baseTriple.append({'id':index, nameColumn:neoTestCsv.iloc[index][nameColumn]})\n",
    "# baseTriple\n",
    "\n",
    "# neoTriple = []\n",
    "# for index in range(len(neoTestCsv)):\n",
    "#     neoTriple.append([(neoTestCsv.iloc[index][nameColumn],attri,neoTestCsv.iloc[index][attri]) for attri in attrColumns])\n",
    "# neoTriple\n",
    "\n",
    "# with open('./data/csvs/'+nameColumn+'.csv','w') as file:\n",
    "#     teacherListHeader = ['id',nameColumn]\n",
    "#     csvWriter = csv.DictWriter(file,teacherListHeader,delimiter=',',lineterminator='\\n')\n",
    "#     csvWriter.writeheader()\n",
    "#     csvWriter.writerows(baseTriple)\n"
   ]
  },
  {
   "cell_type": "markdown",
   "metadata": {},
   "source": [
    "### 写入neo4j"
   ]
  },
  {
   "cell_type": "code",
   "execution_count": 219,
   "metadata": {},
   "outputs": [],
   "source": [
    "from py2neo import Graph,Node,Relationship,Subgraph\n",
    "from py2neo.matching import NodeMatcher,RelationshipMatcher"
   ]
  },
  {
   "cell_type": "code",
   "execution_count": 220,
   "metadata": {},
   "outputs": [],
   "source": [
    "neoGraph = Graph('bolt://localhost:7687/',auth=('neo4j','password'))"
   ]
  },
  {
   "cell_type": "code",
   "execution_count": 221,
   "metadata": {},
   "outputs": [],
   "source": [
    "nMatcher = NodeMatcher(neoGraph)"
   ]
  },
  {
   "cell_type": "code",
   "execution_count": 2,
   "metadata": {},
   "outputs": [],
   "source": [
    "nameColumn = '姓名'\n",
    "attrColumns = ['出生年月', '性别', '学历', '学位' , '主页链接', '职称', '导师资格', '学科',\n",
    "              '电话', '邮件', '办公地址', '通讯地址', '邮编', '籍贯']\n",
    "otherColumns = ['头像链接']\n",
    "analysisColumns = ['个人简介', '招生信息' ]\n",
    "nodeColumns = ['相关教师', '毕业院校', '部门', '教学部门']\n",
    "longColumns = ['教育经历', '工作经历', '科研项目', '论文', '科技成果',\n",
    "              '开授课程', '教学成果','教学资源', '荣誉及奖励', '研究领域', '社会职务']\n"
   ]
  },
  {
   "cell_type": "markdown",
   "metadata": {},
   "source": [
    "#### 工具代码"
   ]
  },
  {
   "cell_type": "code",
   "execution_count": null,
   "metadata": {},
   "outputs": [],
   "source": [
    "neoGraph.run(\"CREATE CONSTRAINT ON (t:教师) ASSERT t.tchID IS UNIQUE\")"
   ]
  },
  {
   "cell_type": "code",
   "execution_count": null,
   "metadata": {},
   "outputs": [],
   "source": [
    "neoGraph.run(\"DROP CONSTRAINT ON (t:教师) ASSERT t.tchID IS UNIQUE\")"
   ]
  },
  {
   "cell_type": "code",
   "execution_count": null,
   "metadata": {},
   "outputs": [],
   "source": [
    "neoGraph.run(\"MATCH (n:教师) DELETE (n)\")"
   ]
  },
  {
   "cell_type": "code",
   "execution_count": null,
   "metadata": {},
   "outputs": [],
   "source": [
    "tx = neoGraph.begin()\n",
    "# tx.create(Subgraph(nodes))\n",
    "neoGraph.commit(tx)"
   ]
  },
  {
   "cell_type": "markdown",
   "metadata": {},
   "source": [
    "#### 创建教师节点"
   ]
  },
  {
   "cell_type": "code",
   "execution_count": null,
   "metadata": {},
   "outputs": [
    {
     "data": {
      "text/plain": [
       "975"
      ]
     },
     "execution_count": 6,
     "metadata": {},
     "output_type": "execute_result"
    }
   ],
   "source": [
    "# 教师节点\n",
    "nodes=[]\n",
    "for index in range(len(tchInfos)):\n",
    "    attrDict = tchInfos.iloc[index][attrColumns].to_dict()\n",
    "    nodei = Node(\"教师\", tchID=index, name=tchInfos.iloc[index][nameColumn], **attrDict)\n",
    "    nodes.append(nodei)\n",
    "len(nodes)"
   ]
  },
  {
   "cell_type": "markdown",
   "metadata": {},
   "source": [
    "#### 教师间关联"
   ]
  },
  {
   "cell_type": "code",
   "execution_count": 203,
   "metadata": {},
   "outputs": [],
   "source": [
    "relatedTchs = tchInfos['相关教师']"
   ]
  },
  {
   "cell_type": "code",
   "execution_count": null,
   "metadata": {},
   "outputs": [],
   "source": [
    "relations = []\n",
    "for index,tchi in enumerate(relatedTchs):\n",
    "    firstNode = nMatcher.match('教师',tchID=index).first()\n",
    "    relates = tchi.split(';')\n",
    "    if relates[0]=='无':\n",
    "        continue\n",
    "\n",
    "    secondNodes = [nMatcher.match('教师',name=tchName).first() for tchName in relates]\n",
    "\n",
    "    relations.extend([Relationship(firstNode,'相关',secondNode) for secondNode in secondNodes if secondNode!=None])\n",
    "\n",
    "relations\n",
    "    "
   ]
  },
  {
   "cell_type": "code",
   "execution_count": null,
   "metadata": {},
   "outputs": [],
   "source": [
    "# tx = neoGraph.begin()\n",
    "# tx.create(Subgraph(relationships=relations))\n",
    "# neoGraph.commit(tx)"
   ]
  },
  {
   "cell_type": "markdown",
   "metadata": {},
   "source": [
    "#### 毕业院校"
   ]
  },
  {
   "cell_type": "code",
   "execution_count": 146,
   "metadata": {},
   "outputs": [],
   "source": [
    "graduateSchool = tchInfos['毕业院校']"
   ]
  },
  {
   "cell_type": "code",
   "execution_count": null,
   "metadata": {},
   "outputs": [
    {
     "data": {
      "text/plain": [
       "152"
      ]
     },
     "execution_count": 59,
     "metadata": {},
     "output_type": "execute_result"
    }
   ],
   "source": [
    "schoolSet = set(graduateSchool.to_list())\n",
    "schoolNodes = [Node(\"学校\", name=school) for school in schoolSet]\n",
    "len(schoolNodes)\n",
    "# tx = neoGraph.begin()\n",
    "# tx.create(Subgraph(schoolNodes))\n",
    "# neoGraph.commit(tx)"
   ]
  },
  {
   "cell_type": "code",
   "execution_count": null,
   "metadata": {},
   "outputs": [],
   "source": [
    "schoolRelations = []\n",
    "for tchi in range(len(graduateSchool)):\n",
    "    firstNode = nMatcher.match('教师',tchID=tchi).first()\n",
    "    secondNode = nMatcher.match('学校',name=graduateSchool.iloc[tchi]).first()\n",
    "    schoolRelations.append(Relationship(firstNode,'毕业于',secondNode))\n",
    "len(schoolRelations)\n",
    "# tx = neoGraph.begin()\n",
    "# tx.create(Subgraph(relationships=schoolRelations))\n",
    "# neoGraph.commit(tx)"
   ]
  },
  {
   "cell_type": "markdown",
   "metadata": {},
   "source": [
    "#### 籍贯"
   ]
  },
  {
   "cell_type": "code",
   "execution_count": null,
   "metadata": {},
   "outputs": [],
   "source": [
    "for index,space in enumerate(tchInfos['籍贯']):\n",
    "    tchi = nMatcher.match('教师',tchID=index).first()\n",
    "    tchi['籍贯'] = space\n",
    "    # neoGraph.push(tchi)"
   ]
  },
  {
   "cell_type": "markdown",
   "metadata": {},
   "source": [
    "#### 部门, 教学部门"
   ]
  },
  {
   "cell_type": "code",
   "execution_count": null,
   "metadata": {},
   "outputs": [],
   "source": [
    "departMent1 = tchInfos['部门']\n",
    "departMent2 = tchInfos['教学部门']"
   ]
  },
  {
   "cell_type": "code",
   "execution_count": null,
   "metadata": {},
   "outputs": [],
   "source": [
    "departs1 = set(sum([re.split('[、| |,|，]',d1i) for d1i in departMent1],[]))\n",
    "departs1.remove('')\n",
    "departs2 = set(sum([re.split('[、| |,|，]',d2i) for d2i in departMent2],[]))\n",
    "departs2.remove('')\n",
    "departsAll = set.union(departs1,departs2)\n",
    "len(departs1),len(departs2),len(departsAll)"
   ]
  },
  {
   "cell_type": "code",
   "execution_count": null,
   "metadata": {},
   "outputs": [],
   "source": [
    "\n",
    "departNodes = [Node(\"部门\", name=depart) for depart in departsAll]\n",
    "len(departNodes)\n",
    "# tx = neoGraph.begin()\n",
    "# tx.create(Subgraph(departNodes))\n",
    "# neoGraph.commit(tx)"
   ]
  },
  {
   "cell_type": "code",
   "execution_count": null,
   "metadata": {},
   "outputs": [],
   "source": [
    "departRelations = []\n",
    "for tchi in range(len(departMent1)):\n",
    "    firstNode = nMatcher.match('教师',tchID=tchi).first()\n",
    "    departsi = set(re.split('[、| |,|，]',departMent1.iloc[tchi])+re.split('[、| |,|，]',departMent1.iloc[tchi]))\n",
    "    if '信息学部' in departsi:\n",
    "        departsi.remove('信息学部')\n",
    "    if '' in departsi:\n",
    "        departsi.remove('')\n",
    "    secondNodes = [nMatcher.match('部门',name=departi).first() for departi in departsi]\n",
    "    departRelations=[Relationship(firstNode,'属于',secondNode) for secondNode in secondNodes]\n",
    "departRelations"
   ]
  },
  {
   "cell_type": "code",
   "execution_count": null,
   "metadata": {},
   "outputs": [],
   "source": [
    "# tx = neoGraph.begin()\n",
    "# tx.create(Subgraph(relationships=departRelations))\n",
    "# neoGraph.commit(tx)"
   ]
  },
  {
   "cell_type": "markdown",
   "metadata": {},
   "source": [
    "#### 教育经历"
   ]
  },
  {
   "cell_type": "code",
   "execution_count": 4,
   "metadata": {},
   "outputs": [],
   "source": [
    "educations = tchInfos['教育经历']"
   ]
  },
  {
   "cell_type": "code",
   "execution_count": 169,
   "metadata": {},
   "outputs": [],
   "source": [
    "# 添加学校教育经历中提到的学校\n",
    "\n",
    "# extraSchoolSet = set()\n",
    "# for index,education in enumerate(educations):\n",
    "#     if education == NODATA:\n",
    "#         continue\n",
    "#     eduList = re.split('\\r\\n',education)\n",
    "#     eduListTuple = [re.split('，',edui) for edui in eduList]\n",
    "#     for eduTuple in eduListTuple:\n",
    "#         if len(eduTuple) != 3 and len(eduTuple) != 4:\n",
    "#             # print(index,eduTuple)\n",
    "#             continue\n",
    "#         schooli = eduTuple[1].strip()\n",
    "#         if '大学' in schooli:\n",
    "#             schooli = schooli[:schooli.find('大学')+2]\n",
    "#         if schooli not in schoolSet:\n",
    "#             print(index,schooli)\n",
    "#             extraSchoolSet.add(schooli)\n",
    "\n",
    "\n",
    "# removeList = ['2020/09/24','华东水利学院（河海大学','南京工学院','南京工学院（现东南大学','暖通空调','机械科学与工程','经济法',\n",
    "# '舟山中学','定海二中','干览中心小学','水工结构工程','热能与动力工程','电力系统及其自动化','航空摄影测量及遥感专业',\"大地测量学与测量工程\"]\n",
    "# for item in removeList:\n",
    "#     extraSchoolSet.remove(item)\n",
    "\n",
    "# len(extraSchoolSet)\n",
    "\n",
    "# schoolNodesExtra = [Node(\"学校\", name=school) for school in extraSchoolSet]\n",
    "\n",
    "# tx = neoGraph.begin()\n",
    "# tx.create(Subgraph(schoolNodesExtra))\n",
    "# neoGraph.commit(tx)\n",
    "# schoolSetAll =  list(set.union(schoolSet,extraSchoolSet))\n",
    "# pd.Series(schoolSetAll,name='学校').to_csv('./data/csvs/学校.csv')\n",
    "\n",
    "\n",
    "# schoolNodes = [Node(\"学校\", name='武汉测绘学院'),Node(\"学校\", name='University of Illinois at Urbana-Champaign')]\n",
    "# print(schoolNodes)\n",
    "# tx = neoGraph.begin()\n",
    "# tx.create(Subgraph(schoolNodes))\n",
    "# neoGraph.commit(tx)\n",
    "\n",
    "# tx = neoGraph.begin()\n",
    "# tx.create(Node(\"学校\", name='剑桥大学'))\n",
    "# neoGraph.commit(tx)\n",
    "\n",
    "# schoolNodes = [Node(\"学校\", name='美国沙漠研究所'),Node(\"学校\", name='Queen Mary, University of London')]\n",
    "# print(schoolNodes)\n",
    "# tx = neoGraph.begin()\n",
    "# tx.create(Subgraph(schoolNodes))\n",
    "# neoGraph.commit(tx)\n",
    "\n",
    "# tchi = nMatcher.match('学校',name='Queen Mary, University of London').first()\n",
    "# tchi['name'] = 'Queen Mary，University of London'\n",
    "# neoGraph.push(tchi)\n",
    "\n",
    "# schoolNodes = [ Node(\"学校\", name='University of Minnesota'),\n",
    "#                 Node(\"学校\", name='Temple University'),\n",
    "#                 Node(\"学校\", name='University of Nevada'),\n",
    "#                 Node(\"学校\", name='University of California'),\n",
    "#                 Node(\"学校\", name='法国南特大学'),\n",
    "#                 ]\n",
    "# tx = neoGraph.begin()\n",
    "# tx.create(Subgraph(schoolNodes))\n",
    "# neoGraph.commit(tx)\n",
    "\n",
    "schoolNodes = [ Node(\"学校\", name='University of Calgary'),\n",
    "                Node(\"学校\", name='中南大学'),]\n",
    "tx = neoGraph.begin()\n",
    "tx.create(Subgraph(schoolNodes))\n",
    "neoGraph.commit(tx)"
   ]
  },
  {
   "cell_type": "code",
   "execution_count": 5,
   "metadata": {},
   "outputs": [],
   "source": [
    "schoolSetSery = pd.read_csv('./data/csvs/学校.csv',index_col='id')['学校']\n",
    "schoolSet = set(schoolSetSery.to_list())\n",
    "degreeSet = set(['本科','学士',\n",
    "                '硕士','研究生',\n",
    "                '硕博','博士',\n",
    "                '博士后',\n",
    "                '访问','访学'])\n",
    "degreeDict = {'本科':'学士','学士':'学士',\n",
    "              '硕士':'硕士','研究生':'硕士',\n",
    "                '硕博':'博士','博士':'博士',\n",
    "                '博士后':'博士后',\n",
    "                '访问':'访学','访学':'访学'}"
   ]
  },
  {
   "cell_type": "code",
   "execution_count": 10,
   "metadata": {},
   "outputs": [],
   "source": [
    "\n",
    "def TupleLen2Fun(tupleLen):\n",
    "\n",
    "    def SEduTuple(tchID,eduTuple):\n",
    "        '''short length tuple'''\n",
    "        school, degree, eduDays = None,None,None\n",
    "        # schoolList = [schoolSeti for schoolSeti in schoolSet \n",
    "        #                           for tuplei in eduTuple if schoolSeti in tuplei]\n",
    "        # degreeList = [degreeSeti for degreeSeti in degreeSet \n",
    "        #                           for tuplei in eduTuple if degreeSeti in tuplei]\n",
    "        # if len(schoolList)!=0 and len(degreeList)!=0:\n",
    "        #     school,degree = schoolList[0],degreeList[0]\n",
    "        # print(tchID,eduTuple,': ',eduDays, school, degree)\n",
    "        # print(tchID,eduTuple)\n",
    "        return school, degree, eduDays\n",
    "\n",
    "    def NEduTuple(tchID,eduTuple):\n",
    "        '''normal length tuple'''\n",
    "        school, degree, eduDays = eduTuple[1].strip(),eduTuple[-1],eduTuple[0].strip()\n",
    "\n",
    "        if school not in schoolSet:\n",
    "            schooliList = [schoolSeti for schoolSeti in schoolSet if schoolSeti in school]\n",
    "            school = None if len(schooliList)==0 else schooliList[0]\n",
    "        \n",
    "        degreeList = [degreeSeti for degreeSeti in degreeSet if degreeSeti in degree]\n",
    "        if len(degreeList)==1:\n",
    "            degree = degreeList[0]\n",
    "        elif len(degreeList)==2:\n",
    "            degree = degreeList[1] if degreeList[0]=='研究生' else degreeList[0]\n",
    "        else:\n",
    "            degree =None\n",
    "\n",
    "        eduDays = None if re.match('^\\d{4}.*$',eduDays) is None else eduDays\n",
    "\n",
    "        return school, degree, eduDays\n",
    "\n",
    "    return SEduTuple if tupleLen<3 else NEduTuple\n",
    "\n",
    "relationsTuple = []\n",
    "\n",
    "for index,education in enumerate(educations):\n",
    "    if education == NODATA:\n",
    "        continue\n",
    "\n",
    "    eduListTuple = [re.split('，',edui) for edui in re.split('\\r\\n',education)]\n",
    "\n",
    "    for eduTuple in eduListTuple:\n",
    "        school, degree, eduDays = TupleLen2Fun(len(eduTuple))(index,eduTuple)\n",
    "        if school is None or degree is None or eduDays is None:\n",
    "            continue\n",
    "        relationsTuple.append((index,school,degreeDict[degree],eduDays))\n",
    "        # relationsTuple.append((tchInfos.iloc[index]['姓名'],school,degreeDict[degree],eduDays))"
   ]
  },
  {
   "cell_type": "code",
   "execution_count": 11,
   "metadata": {},
   "outputs": [
    {
     "data": {
      "text/plain": [
       "1245"
      ]
     },
     "execution_count": 11,
     "metadata": {},
     "output_type": "execute_result"
    }
   ],
   "source": [
    "len(relationsTuple)"
   ]
  },
  {
   "cell_type": "code",
   "execution_count": 12,
   "metadata": {},
   "outputs": [
    {
     "data": {
      "text/html": [
       "<div>\n",
       "<style scoped>\n",
       "    .dataframe tbody tr th:only-of-type {\n",
       "        vertical-align: middle;\n",
       "    }\n",
       "\n",
       "    .dataframe tbody tr th {\n",
       "        vertical-align: top;\n",
       "    }\n",
       "\n",
       "    .dataframe thead th {\n",
       "        text-align: right;\n",
       "    }\n",
       "</style>\n",
       "<table border=\"1\" class=\"dataframe\">\n",
       "  <thead>\n",
       "    <tr style=\"text-align: right;\">\n",
       "      <th></th>\n",
       "      <th>教师姓名</th>\n",
       "      <th>大学</th>\n",
       "      <th>学位</th>\n",
       "      <th>时间</th>\n",
       "    </tr>\n",
       "  </thead>\n",
       "  <tbody>\n",
       "    <tr>\n",
       "      <th>0</th>\n",
       "      <td>毕利东</td>\n",
       "      <td>北京林业大学</td>\n",
       "      <td>学士</td>\n",
       "      <td>1999.09-2003.07</td>\n",
       "    </tr>\n",
       "    <tr>\n",
       "      <th>1</th>\n",
       "      <td>毕利东</td>\n",
       "      <td>南京土壤研究所</td>\n",
       "      <td>博士</td>\n",
       "      <td>2003.09-2008.12</td>\n",
       "    </tr>\n",
       "    <tr>\n",
       "      <th>2</th>\n",
       "      <td>卞夏</td>\n",
       "      <td>东南大学</td>\n",
       "      <td>博士</td>\n",
       "      <td>2010.10-2014.11</td>\n",
       "    </tr>\n",
       "    <tr>\n",
       "      <th>3</th>\n",
       "      <td>卞夏</td>\n",
       "      <td>东南大学</td>\n",
       "      <td>硕士</td>\n",
       "      <td>2008.09-2010.09</td>\n",
       "    </tr>\n",
       "    <tr>\n",
       "      <th>4</th>\n",
       "      <td>卞夏</td>\n",
       "      <td>东南大学</td>\n",
       "      <td>学士</td>\n",
       "      <td>2004.09-2008.06</td>\n",
       "    </tr>\n",
       "    <tr>\n",
       "      <th>...</th>\n",
       "      <td>...</td>\n",
       "      <td>...</td>\n",
       "      <td>...</td>\n",
       "      <td>...</td>\n",
       "    </tr>\n",
       "    <tr>\n",
       "      <th>1240</th>\n",
       "      <td>张道锋</td>\n",
       "      <td>上海交通大学</td>\n",
       "      <td>博士</td>\n",
       "      <td>2013.9-2018.12</td>\n",
       "    </tr>\n",
       "    <tr>\n",
       "      <th>1241</th>\n",
       "      <td>赵振宙</td>\n",
       "      <td>东南大学</td>\n",
       "      <td>博士</td>\n",
       "      <td>2004.03-2007.11</td>\n",
       "    </tr>\n",
       "    <tr>\n",
       "      <th>1242</th>\n",
       "      <td>赵振宙</td>\n",
       "      <td>内蒙古工业大学</td>\n",
       "      <td>学士</td>\n",
       "      <td>1998.09-2002.07</td>\n",
       "    </tr>\n",
       "    <tr>\n",
       "      <th>1243</th>\n",
       "      <td>张犁</td>\n",
       "      <td>南京航空航天大学</td>\n",
       "      <td>博士</td>\n",
       "      <td>2007.09-2012.07</td>\n",
       "    </tr>\n",
       "    <tr>\n",
       "      <th>1244</th>\n",
       "      <td>张犁</td>\n",
       "      <td>南京航空航天大学</td>\n",
       "      <td>学士</td>\n",
       "      <td>2003.09-2007.06</td>\n",
       "    </tr>\n",
       "  </tbody>\n",
       "</table>\n",
       "<p>1245 rows × 4 columns</p>\n",
       "</div>"
      ],
      "text/plain": [
       "     教师姓名        大学  学位               时间\n",
       "0     毕利东    北京林业大学  学士  1999.09-2003.07\n",
       "1     毕利东   南京土壤研究所  博士  2003.09-2008.12\n",
       "2      卞夏      东南大学  博士  2010.10-2014.11\n",
       "3      卞夏      东南大学  硕士  2008.09-2010.09\n",
       "4      卞夏      东南大学  学士  2004.09-2008.06\n",
       "...   ...       ...  ..              ...\n",
       "1240  张道锋    上海交通大学  博士   2013.9-2018.12\n",
       "1241  赵振宙      东南大学  博士  2004.03-2007.11\n",
       "1242  赵振宙   内蒙古工业大学  学士  1998.09-2002.07\n",
       "1243   张犁  南京航空航天大学  博士  2007.09-2012.07\n",
       "1244   张犁  南京航空航天大学  学士  2003.09-2007.06\n",
       "\n",
       "[1245 rows x 4 columns]"
      ]
     },
     "execution_count": 12,
     "metadata": {},
     "output_type": "execute_result"
    }
   ],
   "source": [
    "pd.DataFrame(relationsTuple,columns=['教师姓名', '大学', '学位', '时间'])"
   ]
  },
  {
   "cell_type": "code",
   "execution_count": null,
   "metadata": {},
   "outputs": [],
   "source": [
    "neoRelations = []\n",
    "for index,school,degree,eduDays in relationsTuple:\n",
    "    firstNode = nMatcher.match('教师',tchID=index).first()\n",
    "    secondNode = nMatcher.match('学校',name=school).first()\n",
    "    neoRelations.append(Relationship(firstNode,degree,secondNode,time=eduDays)) \n",
    "neoRelations"
   ]
  },
  {
   "cell_type": "code",
   "execution_count": 230,
   "metadata": {},
   "outputs": [],
   "source": [
    "# tx = neoGraph.begin()\n",
    "# tx.create(Subgraph(relationships=neoRelations))\n",
    "# neoGraph.commit(tx)"
   ]
  }
 ],
 "metadata": {
  "kernelspec": {
   "display_name": "Python 3.7.11 ('scripts')",
   "language": "python",
   "name": "python3"
  },
  "language_info": {
   "codemirror_mode": {
    "name": "ipython",
    "version": 3
   },
   "file_extension": ".py",
   "mimetype": "text/x-python",
   "name": "python",
   "nbconvert_exporter": "python",
   "pygments_lexer": "ipython3",
   "version": "3.7.11"
  },
  "orig_nbformat": 4,
  "vscode": {
   "interpreter": {
    "hash": "66f811aa80605608a716d0f14e2ef14f8658c489814e21d6a0576f4249903105"
   }
  }
 },
 "nbformat": 4,
 "nbformat_minor": 2
}
